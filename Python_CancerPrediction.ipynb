{
  "nbformat": 4,
  "nbformat_minor": 0,
  "metadata": {
    "kernelspec": {
      "display_name": "Python 3",
      "language": "python",
      "name": "python3"
    },
    "language_info": {
      "codemirror_mode": {
        "name": "ipython",
        "version": 3
      },
      "file_extension": ".py",
      "mimetype": "text/x-python",
      "name": "python",
      "nbconvert_exporter": "python",
      "pygments_lexer": "ipython3",
      "version": "3.6.4"
    },
    "colab": {
      "name": "BreastCancerPrediction.ipynb",
      "provenance": []
    }
  },
  "cells": [
    {
      "cell_type": "code",
      "metadata": {
        "id": "nwamVTgVQuKY"
      },
      "source": [
        "import pandas as pd\n",
        "import numpy as np\n",
        "import matplotlib.pyplot as plt\n",
        "%matplotlib inline\n",
        "import seaborn as sns\n",
        "from scipy.stats import norm\n",
        "from sklearn.model_selection import train_test_split\n",
        "from sklearn import preprocessing, cross_validation, neighbors, svm\n",
        "from sklearn.tree import DecisionTreeClassifier\n",
        "from sklearn.linear_model import LogisticRegression\n",
        "from sklearn.ensemble import RandomForestClassifier"
      ],
      "execution_count": null,
      "outputs": []
    },
    {
      "cell_type": "code",
      "metadata": {
        "id": "eugC0ME6QuKZ",
        "outputId": "419e0ce0-048b-4ff3-b129-85330a7e6638"
      },
      "source": [
        "data=pd.read_csv('C:/Users/Master/DS/Breast cancer prediction/Breast-cancer-risk-prediction-master\\Breast-cancer-risk-prediction-master/data/data.csv', index_col = 0)\n",
        "data.info()\n",
        "pd.set_option('display.max_columns', 500)\n",
        "#data.set_index('id', inplace = True)\n",
        "data.head(5)"
      ],
      "execution_count": null,
      "outputs": [
        {
          "output_type": "stream",
          "text": [
            "<class 'pandas.core.frame.DataFrame'>\n",
            "Int64Index: 569 entries, 842302 to 92751\n",
            "Data columns (total 31 columns):\n",
            "diagnosis                  569 non-null int64\n",
            "radius_mean                569 non-null float64\n",
            "texture_mean               569 non-null float64\n",
            "perimeter_mean             569 non-null float64\n",
            "area_mean                  569 non-null float64\n",
            "smoothness_mean            569 non-null float64\n",
            "compactness_mean           569 non-null float64\n",
            "concavity_mean             569 non-null float64\n",
            "concave points_mean        569 non-null float64\n",
            "symmetry_mean              569 non-null float64\n",
            "fractal_dimension_mean     569 non-null float64\n",
            "radius_se                  569 non-null float64\n",
            "texture_se                 569 non-null float64\n",
            "perimeter_se               569 non-null float64\n",
            "area_se                    569 non-null float64\n",
            "smoothness_se              569 non-null float64\n",
            "compactness_se             569 non-null float64\n",
            "concavity_se               569 non-null float64\n",
            "concave points_se          569 non-null float64\n",
            "symmetry_se                569 non-null float64\n",
            "fractal_dimension_se       569 non-null float64\n",
            "radius_worst               569 non-null float64\n",
            "texture_worst              569 non-null float64\n",
            "perimeter_worst            569 non-null float64\n",
            "area_worst                 569 non-null float64\n",
            "smoothness_worst           569 non-null float64\n",
            "compactness_worst          569 non-null float64\n",
            "concavity_worst            569 non-null float64\n",
            "concave points_worst       569 non-null float64\n",
            "symmetry_worst             569 non-null float64\n",
            "fractal_dimension_worst    569 non-null float64\n",
            "dtypes: float64(30), int64(1)\n",
            "memory usage: 142.2 KB\n"
          ],
          "name": "stdout"
        },
        {
          "output_type": "execute_result",
          "data": {
            "text/html": [
              "<div>\n",
              "<style scoped>\n",
              "    .dataframe tbody tr th:only-of-type {\n",
              "        vertical-align: middle;\n",
              "    }\n",
              "\n",
              "    .dataframe tbody tr th {\n",
              "        vertical-align: top;\n",
              "    }\n",
              "\n",
              "    .dataframe thead th {\n",
              "        text-align: right;\n",
              "    }\n",
              "</style>\n",
              "<table border=\"1\" class=\"dataframe\">\n",
              "  <thead>\n",
              "    <tr style=\"text-align: right;\">\n",
              "      <th></th>\n",
              "      <th>diagnosis</th>\n",
              "      <th>radius_mean</th>\n",
              "      <th>texture_mean</th>\n",
              "      <th>perimeter_mean</th>\n",
              "      <th>area_mean</th>\n",
              "      <th>smoothness_mean</th>\n",
              "      <th>compactness_mean</th>\n",
              "      <th>concavity_mean</th>\n",
              "      <th>concave points_mean</th>\n",
              "      <th>symmetry_mean</th>\n",
              "      <th>fractal_dimension_mean</th>\n",
              "      <th>radius_se</th>\n",
              "      <th>texture_se</th>\n",
              "      <th>perimeter_se</th>\n",
              "      <th>area_se</th>\n",
              "      <th>smoothness_se</th>\n",
              "      <th>compactness_se</th>\n",
              "      <th>concavity_se</th>\n",
              "      <th>concave points_se</th>\n",
              "      <th>symmetry_se</th>\n",
              "      <th>fractal_dimension_se</th>\n",
              "      <th>radius_worst</th>\n",
              "      <th>texture_worst</th>\n",
              "      <th>perimeter_worst</th>\n",
              "      <th>area_worst</th>\n",
              "      <th>smoothness_worst</th>\n",
              "      <th>compactness_worst</th>\n",
              "      <th>concavity_worst</th>\n",
              "      <th>concave points_worst</th>\n",
              "      <th>symmetry_worst</th>\n",
              "      <th>fractal_dimension_worst</th>\n",
              "    </tr>\n",
              "    <tr>\n",
              "      <th>id</th>\n",
              "      <th></th>\n",
              "      <th></th>\n",
              "      <th></th>\n",
              "      <th></th>\n",
              "      <th></th>\n",
              "      <th></th>\n",
              "      <th></th>\n",
              "      <th></th>\n",
              "      <th></th>\n",
              "      <th></th>\n",
              "      <th></th>\n",
              "      <th></th>\n",
              "      <th></th>\n",
              "      <th></th>\n",
              "      <th></th>\n",
              "      <th></th>\n",
              "      <th></th>\n",
              "      <th></th>\n",
              "      <th></th>\n",
              "      <th></th>\n",
              "      <th></th>\n",
              "      <th></th>\n",
              "      <th></th>\n",
              "      <th></th>\n",
              "      <th></th>\n",
              "      <th></th>\n",
              "      <th></th>\n",
              "      <th></th>\n",
              "      <th></th>\n",
              "      <th></th>\n",
              "      <th></th>\n",
              "    </tr>\n",
              "  </thead>\n",
              "  <tbody>\n",
              "    <tr>\n",
              "      <th>842302</th>\n",
              "      <td>1</td>\n",
              "      <td>17.99</td>\n",
              "      <td>10.38</td>\n",
              "      <td>122.80</td>\n",
              "      <td>1001.0</td>\n",
              "      <td>0.11840</td>\n",
              "      <td>0.27760</td>\n",
              "      <td>0.3001</td>\n",
              "      <td>0.14710</td>\n",
              "      <td>0.2419</td>\n",
              "      <td>0.07871</td>\n",
              "      <td>1.0950</td>\n",
              "      <td>0.9053</td>\n",
              "      <td>8.589</td>\n",
              "      <td>153.40</td>\n",
              "      <td>0.006399</td>\n",
              "      <td>0.04904</td>\n",
              "      <td>0.05373</td>\n",
              "      <td>0.01587</td>\n",
              "      <td>0.03003</td>\n",
              "      <td>0.006193</td>\n",
              "      <td>25.38</td>\n",
              "      <td>17.33</td>\n",
              "      <td>184.60</td>\n",
              "      <td>2019.0</td>\n",
              "      <td>0.1622</td>\n",
              "      <td>0.6656</td>\n",
              "      <td>0.7119</td>\n",
              "      <td>0.2654</td>\n",
              "      <td>0.4601</td>\n",
              "      <td>0.11890</td>\n",
              "    </tr>\n",
              "    <tr>\n",
              "      <th>842517</th>\n",
              "      <td>1</td>\n",
              "      <td>20.57</td>\n",
              "      <td>17.77</td>\n",
              "      <td>132.90</td>\n",
              "      <td>1326.0</td>\n",
              "      <td>0.08474</td>\n",
              "      <td>0.07864</td>\n",
              "      <td>0.0869</td>\n",
              "      <td>0.07017</td>\n",
              "      <td>0.1812</td>\n",
              "      <td>0.05667</td>\n",
              "      <td>0.5435</td>\n",
              "      <td>0.7339</td>\n",
              "      <td>3.398</td>\n",
              "      <td>74.08</td>\n",
              "      <td>0.005225</td>\n",
              "      <td>0.01308</td>\n",
              "      <td>0.01860</td>\n",
              "      <td>0.01340</td>\n",
              "      <td>0.01389</td>\n",
              "      <td>0.003532</td>\n",
              "      <td>24.99</td>\n",
              "      <td>23.41</td>\n",
              "      <td>158.80</td>\n",
              "      <td>1956.0</td>\n",
              "      <td>0.1238</td>\n",
              "      <td>0.1866</td>\n",
              "      <td>0.2416</td>\n",
              "      <td>0.1860</td>\n",
              "      <td>0.2750</td>\n",
              "      <td>0.08902</td>\n",
              "    </tr>\n",
              "    <tr>\n",
              "      <th>84300903</th>\n",
              "      <td>1</td>\n",
              "      <td>19.69</td>\n",
              "      <td>21.25</td>\n",
              "      <td>130.00</td>\n",
              "      <td>1203.0</td>\n",
              "      <td>0.10960</td>\n",
              "      <td>0.15990</td>\n",
              "      <td>0.1974</td>\n",
              "      <td>0.12790</td>\n",
              "      <td>0.2069</td>\n",
              "      <td>0.05999</td>\n",
              "      <td>0.7456</td>\n",
              "      <td>0.7869</td>\n",
              "      <td>4.585</td>\n",
              "      <td>94.03</td>\n",
              "      <td>0.006150</td>\n",
              "      <td>0.04006</td>\n",
              "      <td>0.03832</td>\n",
              "      <td>0.02058</td>\n",
              "      <td>0.02250</td>\n",
              "      <td>0.004571</td>\n",
              "      <td>23.57</td>\n",
              "      <td>25.53</td>\n",
              "      <td>152.50</td>\n",
              "      <td>1709.0</td>\n",
              "      <td>0.1444</td>\n",
              "      <td>0.4245</td>\n",
              "      <td>0.4504</td>\n",
              "      <td>0.2430</td>\n",
              "      <td>0.3613</td>\n",
              "      <td>0.08758</td>\n",
              "    </tr>\n",
              "    <tr>\n",
              "      <th>84348301</th>\n",
              "      <td>1</td>\n",
              "      <td>11.42</td>\n",
              "      <td>20.38</td>\n",
              "      <td>77.58</td>\n",
              "      <td>386.1</td>\n",
              "      <td>0.14250</td>\n",
              "      <td>0.28390</td>\n",
              "      <td>0.2414</td>\n",
              "      <td>0.10520</td>\n",
              "      <td>0.2597</td>\n",
              "      <td>0.09744</td>\n",
              "      <td>0.4956</td>\n",
              "      <td>1.1560</td>\n",
              "      <td>3.445</td>\n",
              "      <td>27.23</td>\n",
              "      <td>0.009110</td>\n",
              "      <td>0.07458</td>\n",
              "      <td>0.05661</td>\n",
              "      <td>0.01867</td>\n",
              "      <td>0.05963</td>\n",
              "      <td>0.009208</td>\n",
              "      <td>14.91</td>\n",
              "      <td>26.50</td>\n",
              "      <td>98.87</td>\n",
              "      <td>567.7</td>\n",
              "      <td>0.2098</td>\n",
              "      <td>0.8663</td>\n",
              "      <td>0.6869</td>\n",
              "      <td>0.2575</td>\n",
              "      <td>0.6638</td>\n",
              "      <td>0.17300</td>\n",
              "    </tr>\n",
              "    <tr>\n",
              "      <th>84358402</th>\n",
              "      <td>1</td>\n",
              "      <td>20.29</td>\n",
              "      <td>14.34</td>\n",
              "      <td>135.10</td>\n",
              "      <td>1297.0</td>\n",
              "      <td>0.10030</td>\n",
              "      <td>0.13280</td>\n",
              "      <td>0.1980</td>\n",
              "      <td>0.10430</td>\n",
              "      <td>0.1809</td>\n",
              "      <td>0.05883</td>\n",
              "      <td>0.7572</td>\n",
              "      <td>0.7813</td>\n",
              "      <td>5.438</td>\n",
              "      <td>94.44</td>\n",
              "      <td>0.011490</td>\n",
              "      <td>0.02461</td>\n",
              "      <td>0.05688</td>\n",
              "      <td>0.01885</td>\n",
              "      <td>0.01756</td>\n",
              "      <td>0.005115</td>\n",
              "      <td>22.54</td>\n",
              "      <td>16.67</td>\n",
              "      <td>152.20</td>\n",
              "      <td>1575.0</td>\n",
              "      <td>0.1374</td>\n",
              "      <td>0.2050</td>\n",
              "      <td>0.4000</td>\n",
              "      <td>0.1625</td>\n",
              "      <td>0.2364</td>\n",
              "      <td>0.07678</td>\n",
              "    </tr>\n",
              "  </tbody>\n",
              "</table>\n",
              "</div>"
            ],
            "text/plain": [
              "          diagnosis  radius_mean  texture_mean  perimeter_mean  area_mean  \\\n",
              "id                                                                          \n",
              "842302            1        17.99         10.38          122.80     1001.0   \n",
              "842517            1        20.57         17.77          132.90     1326.0   \n",
              "84300903          1        19.69         21.25          130.00     1203.0   \n",
              "84348301          1        11.42         20.38           77.58      386.1   \n",
              "84358402          1        20.29         14.34          135.10     1297.0   \n",
              "\n",
              "          smoothness_mean  compactness_mean  concavity_mean  \\\n",
              "id                                                            \n",
              "842302            0.11840           0.27760          0.3001   \n",
              "842517            0.08474           0.07864          0.0869   \n",
              "84300903          0.10960           0.15990          0.1974   \n",
              "84348301          0.14250           0.28390          0.2414   \n",
              "84358402          0.10030           0.13280          0.1980   \n",
              "\n",
              "          concave points_mean  symmetry_mean  fractal_dimension_mean  \\\n",
              "id                                                                     \n",
              "842302                0.14710         0.2419                 0.07871   \n",
              "842517                0.07017         0.1812                 0.05667   \n",
              "84300903              0.12790         0.2069                 0.05999   \n",
              "84348301              0.10520         0.2597                 0.09744   \n",
              "84358402              0.10430         0.1809                 0.05883   \n",
              "\n",
              "          radius_se  texture_se  perimeter_se  area_se  smoothness_se  \\\n",
              "id                                                                      \n",
              "842302       1.0950      0.9053         8.589   153.40       0.006399   \n",
              "842517       0.5435      0.7339         3.398    74.08       0.005225   \n",
              "84300903     0.7456      0.7869         4.585    94.03       0.006150   \n",
              "84348301     0.4956      1.1560         3.445    27.23       0.009110   \n",
              "84358402     0.7572      0.7813         5.438    94.44       0.011490   \n",
              "\n",
              "          compactness_se  concavity_se  concave points_se  symmetry_se  \\\n",
              "id                                                                       \n",
              "842302           0.04904       0.05373            0.01587      0.03003   \n",
              "842517           0.01308       0.01860            0.01340      0.01389   \n",
              "84300903         0.04006       0.03832            0.02058      0.02250   \n",
              "84348301         0.07458       0.05661            0.01867      0.05963   \n",
              "84358402         0.02461       0.05688            0.01885      0.01756   \n",
              "\n",
              "          fractal_dimension_se  radius_worst  texture_worst  perimeter_worst  \\\n",
              "id                                                                             \n",
              "842302                0.006193         25.38          17.33           184.60   \n",
              "842517                0.003532         24.99          23.41           158.80   \n",
              "84300903              0.004571         23.57          25.53           152.50   \n",
              "84348301              0.009208         14.91          26.50            98.87   \n",
              "84358402              0.005115         22.54          16.67           152.20   \n",
              "\n",
              "          area_worst  smoothness_worst  compactness_worst  concavity_worst  \\\n",
              "id                                                                           \n",
              "842302        2019.0            0.1622             0.6656           0.7119   \n",
              "842517        1956.0            0.1238             0.1866           0.2416   \n",
              "84300903      1709.0            0.1444             0.4245           0.4504   \n",
              "84348301       567.7            0.2098             0.8663           0.6869   \n",
              "84358402      1575.0            0.1374             0.2050           0.4000   \n",
              "\n",
              "          concave points_worst  symmetry_worst  fractal_dimension_worst  \n",
              "id                                                                       \n",
              "842302                  0.2654          0.4601                  0.11890  \n",
              "842517                  0.1860          0.2750                  0.08902  \n",
              "84300903                0.2430          0.3613                  0.08758  \n",
              "84348301                0.2575          0.6638                  0.17300  \n",
              "84358402                0.1625          0.2364                  0.07678  "
            ]
          },
          "metadata": {
            "tags": []
          },
          "execution_count": 40
        }
      ]
    },
    {
      "cell_type": "code",
      "metadata": {
        "id": "D0Yb7ouFQuKa"
      },
      "source": [
        "#diagnosis = {'M': 1,'B': 0} \n",
        "#data.diagnosis = [diagnosis[item] for item in data.diagnosis] \n",
        "#data.head()\n",
        "\n",
        "#data.diagnosis[data.diagnosis == 'M'] = 1\n",
        "#data.Gender[data.diagnosis == 'B'] = 0"
      ],
      "execution_count": null,
      "outputs": []
    },
    {
      "cell_type": "code",
      "metadata": {
        "id": "CamlOazYQuKb",
        "outputId": "64d79c4f-e7a3-4532-a32b-b13b6105c324"
      },
      "source": [
        "diagnosis_all = list(data.shape)[0]\n",
        "diagnosis_categories = list(data['diagnosis'].value_counts())\n",
        "print(\"\\n \\t The data has {} diagnosis, {} malignant and {} benign.\".format(diagnosis_all, \n",
        "diagnosis_categories[0], diagnosis_categories[1]))"
      ],
      "execution_count": null,
      "outputs": [
        {
          "output_type": "stream",
          "text": [
            "\n",
            " \t The data has 569 diagnosis, 357 malignant and 212 benign.\n"
          ],
          "name": "stdout"
        }
      ]
    },
    {
      "cell_type": "code",
      "metadata": {
        "id": "znpn_NE1QuKb",
        "outputId": "62742999-273b-44f3-afcc-3b1fb7639b52"
      },
      "source": [
        "features_mean= list(data.columns[0:31])\n",
        "features_mean"
      ],
      "execution_count": null,
      "outputs": [
        {
          "output_type": "execute_result",
          "data": {
            "text/plain": [
              "['diagnosis',\n",
              " 'radius_mean',\n",
              " 'texture_mean',\n",
              " 'perimeter_mean',\n",
              " 'area_mean',\n",
              " 'smoothness_mean',\n",
              " 'compactness_mean',\n",
              " 'concavity_mean',\n",
              " 'concave points_mean',\n",
              " 'symmetry_mean',\n",
              " 'fractal_dimension_mean',\n",
              " 'radius_se',\n",
              " 'texture_se',\n",
              " 'perimeter_se',\n",
              " 'area_se',\n",
              " 'smoothness_se',\n",
              " 'compactness_se',\n",
              " 'concavity_se',\n",
              " 'concave points_se',\n",
              " 'symmetry_se',\n",
              " 'fractal_dimension_se',\n",
              " 'radius_worst',\n",
              " 'texture_worst',\n",
              " 'perimeter_worst',\n",
              " 'area_worst',\n",
              " 'smoothness_worst',\n",
              " 'compactness_worst',\n",
              " 'concavity_worst',\n",
              " 'concave points_worst',\n",
              " 'symmetry_worst',\n",
              " 'fractal_dimension_worst']"
            ]
          },
          "metadata": {
            "tags": []
          },
          "execution_count": 43
        }
      ]
    },
    {
      "cell_type": "code",
      "metadata": {
        "id": "eI3uWmMmQuKb",
        "outputId": "9428de52-a791-45ec-d76f-1aca89df6879"
      },
      "source": [
        "#feature selection with chi squared test\n",
        "from sklearn.feature_selection import SelectKBest\n",
        "from sklearn.feature_selection import chi2\n",
        "#feature selection with chi squared test\n",
        "array = data.values\n",
        "print (array)\n",
        "X = array[:,1:31]\n",
        "Y = array[:,0]\n",
        "#print(\"THIS IS X\", X)\n",
        "#print(\"THIS IS Y\", Y)\n",
        "test = SelectKBest(score_func=chi2, k=1)\n",
        "fit = test.fit(X, Y)\n",
        "np.set_printoptions(precision=3)\n",
        "print(fit.scores_)\n",
        "features = fit.transform(X)\n",
        "# summarize selected features top1\n",
        "print(features[0:2,:])"
      ],
      "execution_count": null,
      "outputs": [
        {
          "output_type": "stream",
          "text": [
            "[[ 1.    17.99  10.38  ...  0.265  0.46   0.119]\n",
            " [ 1.    20.57  17.77  ...  0.186  0.275  0.089]\n",
            " [ 1.    19.69  21.25  ...  0.243  0.361  0.088]\n",
            " ...\n",
            " [ 1.    16.6   28.08  ...  0.142  0.222  0.078]\n",
            " [ 1.    20.6   29.33  ...  0.265  0.409  0.124]\n",
            " [ 0.     7.76  24.54  ...  0.     0.287  0.07 ]]\n",
            "[2.661e+02 9.390e+01 2.011e+03 5.399e+04 1.499e-01 5.403e+00 1.971e+01\n",
            " 1.054e+01 2.574e-01 7.431e-05 3.468e+01 9.794e-03 2.506e+02 8.759e+03\n",
            " 3.266e-03 6.138e-01 1.045e+00 3.052e-01 8.036e-05 6.371e-03 4.917e+02\n",
            " 1.744e+02 3.665e+03 1.126e+05 3.974e-01 1.931e+01 3.952e+01 1.349e+01\n",
            " 1.299e+00 2.315e-01]\n",
            "[[2019.]\n",
            " [1956.]]\n"
          ],
          "name": "stdout"
        }
      ]
    },
    {
      "cell_type": "code",
      "metadata": {
        "id": "wm1CvLMHQuKc",
        "outputId": "5debcd56-fdcd-4c68-d5a7-427948ff474e"
      },
      "source": [
        "#\"area_worst\" is the top 1 feature \n",
        "test = SelectKBest(score_func=chi2, k=2)\n",
        "fit = test.fit(X, Y)\n",
        "np.set_printoptions(precision=3)\n",
        "features = fit.transform(X)\n",
        "# summarize selected features top2\n",
        "print(features[0:2,:])"
      ],
      "execution_count": null,
      "outputs": [
        {
          "output_type": "stream",
          "text": [
            "[[1001. 2019.]\n",
            " [1326. 1956.]]\n"
          ],
          "name": "stdout"
        }
      ]
    },
    {
      "cell_type": "code",
      "metadata": {
        "id": "YTA48TeQQuKc",
        "outputId": "93d635a2-b333-4519-d162-09c1a8312503"
      },
      "source": [
        "#\"area_worst\" and \"area_mean\" are the top 2 features\n",
        "test = SelectKBest(score_func=chi2, k=3)\n",
        "fit = test.fit(X, Y)\n",
        "np.set_printoptions(precision=3)\n",
        "features = fit.transform(X)\n",
        "# summarize selected features top3\n",
        "print(features[0:2,:])"
      ],
      "execution_count": null,
      "outputs": [
        {
          "output_type": "stream",
          "text": [
            "[[1001.    153.4  2019.  ]\n",
            " [1326.     74.08 1956.  ]]\n"
          ],
          "name": "stdout"
        }
      ]
    },
    {
      "cell_type": "code",
      "metadata": {
        "id": "zDGd_wUfQuKc",
        "outputId": "7e637a2f-482f-43b8-bbe8-f8873790d9c6"
      },
      "source": [
        "#\"area_worst\", \"area_mean\", and \"area_se\" are the top three features\n",
        "test = SelectKBest(score_func=chi2, k=4)\n",
        "fit = test.fit(X, Y)\n",
        "np.set_printoptions(precision=3)\n",
        "features = fit.transform(X)\n",
        "# summarize selected features\n",
        "print(features[0:2,:])"
      ],
      "execution_count": null,
      "outputs": [
        {
          "output_type": "stream",
          "text": [
            "[[1001.    153.4   184.6  2019.  ]\n",
            " [1326.     74.08  158.8  1956.  ]]\n"
          ],
          "name": "stdout"
        }
      ]
    },
    {
      "cell_type": "code",
      "metadata": {
        "id": "-ZQfeHiVQuKd"
      },
      "source": [
        "#\"area_worst\", \"area_mean\", \"perimeter_worst\", and \"area_se\" are the top four features"
      ],
      "execution_count": null,
      "outputs": []
    },
    {
      "cell_type": "code",
      "metadata": {
        "id": "Z1jrDOWhQuKd",
        "outputId": "f85cfd5b-b080-4190-e982-f4fdf74e16db"
      },
      "source": [
        "# All features are used in models\n",
        "#data.replace(\"?\", -99999, inplace=True)\n",
        "#data = data.drop(['id'], axis=1)\n",
        "#print (data)\n",
        "array = data.values\n",
        "X = array[:, 1:32]\n",
        "y = array[:,0]\n",
        "X_train, X_test, y_train, y_test = cross_validation.train_test_split( X, y, test_size=0.33)\n",
        "#print (\"x is \", X)\n",
        "#print (\" y is :\", y)\n",
        "#print (X_train.shape, y_train.shape, X_test.shape, y_test.shape)\n",
        "\n",
        "# Create an SVM classifier and train it on 67% of the data set\n",
        "clf = svm.SVC()\n",
        "clf.fit(X_train, y_train)\n",
        "accuracy_svm_all = clf.score(X_test, y_test)\n",
        "print (\"SVC accuracy is \",accuracy_svm_all)\n",
        "\n",
        "# Create an Kneighbors classifier and train it on 67% of the data set\n",
        "knc = neighbors.KNeighborsClassifier()\n",
        "knc.fit(X_train, y_train)\n",
        "accuracy_knc_all = knc.score(X_test, y_test)\n",
        "print (\"knc accuracy is \", accuracy_knc_all)\n",
        "\n",
        "# Create an Logistic Regression and train it on 67% of the data set\n",
        "lr = LogisticRegression()\n",
        "lr.fit(X_train, y_train)\n",
        "accuracy_lr_all = lr.score(X_test, y_test)\n",
        "print (\"lr accuracy is \", accuracy_lr_all)\n",
        "\n",
        "# Create an DecisionTree and train it on 67% of the data set\n",
        "dt = DecisionTreeClassifier()\n",
        "dt.fit(X_train, y_train)\n",
        "accuracy_dt_all = dt.score(X_test, y_test)\n",
        "print (\"dt accuracy is \", accuracy_dt_all)\n",
        "\n",
        "# Create an RandomForest and train it on 67% of the data set\n",
        "rf = RandomForestClassifier()\n",
        "rf.fit(X_train, y_train)\n",
        "accuracy_rf_all = rf.score(X_test, y_test)\n",
        "print (\"rf accuracy is \", accuracy_rf_all)"
      ],
      "execution_count": null,
      "outputs": [
        {
          "output_type": "stream",
          "text": [
            "SVC accuracy is  0.6595744680851063\n",
            "knc accuracy is  0.9414893617021277\n",
            "lr accuracy is  0.9680851063829787\n",
            "dt accuracy is  0.9308510638297872\n",
            "rf accuracy is  0.9787234042553191\n"
          ],
          "name": "stdout"
        }
      ]
    },
    {
      "cell_type": "code",
      "metadata": {
        "id": "Ctcf2JJrQuKe",
        "outputId": "5d33d9a2-4aff-408d-8bb4-47d5cbcdecf5"
      },
      "source": [
        "# use the single best column to run ml\n",
        "X = array[:, 24:25]\n",
        "y = array[:, 0]\n",
        "X_train, X_test, y_train, y_test = cross_validation.train_test_split( X, y, test_size=0.33)\n",
        "#print (\"x is \", X)\n",
        "#print (\" y is :\", y)\n",
        "#print (X_train.shape, y_train.shape, X_test.shape, y_test.shape)\n",
        "\n",
        "\n",
        "# Create an SVM classifier and train it on 67% of the data set\n",
        "clf = svm.SVC()\n",
        "clf.fit(X_train, y_train)\n",
        "accuracy_svm_one = clf.score(X_test, y_test)\n",
        "print (\"SVC accuracy is \",accuracy_svm_one)\n",
        "\n",
        "# Create an Kneighbors classifier and train it on 67% of the data set\n",
        "knc = neighbors.KNeighborsClassifier()\n",
        "knc.fit(X_train, y_train)\n",
        "accuracy_knc_one = knc.score(X_test, y_test)\n",
        "print (\"knc accuracy is \", accuracy_knc_one)\n",
        "\n",
        "# Create an Logistic Regression and train it on 67% of the data set\n",
        "lr = LogisticRegression()\n",
        "lr.fit(X_train, y_train)\n",
        "accuracy_lr_one = lr.score(X_test, y_test)\n",
        "print (\"lr accuracy is \", accuracy_lr_one)\n",
        "\n",
        "# Create an DecisionTree and train it on 67% of the data set\n",
        "dt = DecisionTreeClassifier()\n",
        "dt.fit(X_train, y_train)\n",
        "accuracy_dt_one = dt.score(X_test, y_test)\n",
        "print (\"dt accuracy is \", accuracy_dt_one)\n",
        "\n",
        "# Create an RandomForest and train it on 67% of the data set\n",
        "rf = RandomForestClassifier()\n",
        "rf.fit(X_train, y_train)\n",
        "accuracy_rf_one = rf.score(X_test, y_test)\n",
        "print (\"rf accuracy is \", accuracy_rf_one)\n"
      ],
      "execution_count": null,
      "outputs": [
        {
          "output_type": "stream",
          "text": [
            "SVC accuracy is  0.6702127659574468\n",
            "knc accuracy is  0.9042553191489362\n",
            "lr accuracy is  0.9202127659574468\n",
            "dt accuracy is  0.8670212765957447\n",
            "rf accuracy is  0.8776595744680851\n"
          ],
          "name": "stdout"
        }
      ]
    },
    {
      "cell_type": "code",
      "metadata": {
        "id": "WtW9Zy6yQuKe",
        "outputId": "c36b37b9-6b8a-4f7a-9f1e-fcf582c7f531"
      },
      "source": [
        "# use the two best columns to run ml\n",
        " \n",
        "X = data.iloc[:,[4,24]].as_matrix()\n",
        "y = array[:, 0]\n",
        "X_train, X_test, y_train, y_test = cross_validation.train_test_split( X, y, test_size=0.33)\n",
        "#print (\"x is \", X)\n",
        "#print (\" y is :\", y)\n",
        "#print (X_train.shape, y_train.shape, X_test.shape, y_test.shape)\n",
        "\n",
        "# Create an SVM classifier and train it on 67% of the data set\n",
        "clf = svm.SVC()\n",
        "clf.fit(X_train, y_train)\n",
        "accuracy_svm_two = clf.score(X_test, y_test)\n",
        "print (\"SVC accuracy is \",accuracy_svm_two)\n",
        "\n",
        "# Create an Kneighbors classifier and train it on 67% of the data set\n",
        "knc = neighbors.KNeighborsClassifier()\n",
        "knc.fit(X_train, y_train)\n",
        "accuracy_knc_two = knc.score(X_test, y_test)\n",
        "print (\"knc accuracy is \", accuracy_knc_two)\n",
        "\n",
        "# Create an Logistic Regression and train it on 67% of the data set\n",
        "lr = LogisticRegression()\n",
        "lr.fit(X_train, y_train)\n",
        "accuracy_lr_two = lr.score(X_test, y_test)\n",
        "print (\"lr accuracy is \", accuracy_lr_two)\n",
        "\n",
        "# Create an DecisionTree and train it on 67% of the data set\n",
        "dt = DecisionTreeClassifier()\n",
        "dt.fit(X_train, y_train)\n",
        "accuracy_dt_two = dt.score(X_test, y_test)\n",
        "print (\"dt accuracy is \", accuracy_dt_two)\n",
        "\n",
        "# Create an RandomForest and train it on 67% of the data set\n",
        "rf = RandomForestClassifier()\n",
        "rf.fit(X_train, y_train)\n",
        "accuracy_rf_two = rf.score(X_test, y_test)\n",
        "print (\"rf accuracy is \", accuracy_rf_two)"
      ],
      "execution_count": null,
      "outputs": [
        {
          "output_type": "stream",
          "text": [
            "SVC accuracy is  0.6170212765957447\n",
            "knc accuracy is  0.9202127659574468\n",
            "lr accuracy is  0.9202127659574468\n",
            "dt accuracy is  0.9042553191489362\n",
            "rf accuracy is  0.9095744680851063\n"
          ],
          "name": "stdout"
        }
      ]
    },
    {
      "cell_type": "code",
      "metadata": {
        "id": "RJo9nOEeQuKe",
        "outputId": "1f317eba-c900-4801-b2a2-b2facd209fcb"
      },
      "source": [
        "# use the three best columns to run ml\n",
        " \n",
        "X = data.iloc[:,[4,14, 24]].as_matrix()\n",
        "y = array[:, 0]\n",
        "X_train, X_test, y_train, y_test = cross_validation.train_test_split( X, y, test_size=0.33)\n",
        "#print (\"x is \", X)\n",
        "#print (\" y is :\", y)\n",
        "#print (X_train.shape, y_train.shape, X_test.shape, y_test.shape)\n",
        "\n",
        "# Create an SVM classifier and train it on 67% of the data set\n",
        "clf = svm.SVC()\n",
        "clf.fit(X_train, y_train)\n",
        "accuracy_svm_three = clf.score(X_test, y_test)\n",
        "print (\"SVC accuracy is \",accuracy_svm_three)\n",
        "\n",
        "# Create an Kneighbors classifier and train it on 67% of the data set\n",
        "knc = neighbors.KNeighborsClassifier()\n",
        "knc.fit(X_train, y_train)\n",
        "accuracy_knc_three = knc.score(X_test, y_test)\n",
        "print (\"knc accuracy is \", accuracy_knc_three)\n",
        "\n",
        "# Create an Logistic Regression and train it on 67% of the data set\n",
        "lr = LogisticRegression()\n",
        "lr.fit(X_train, y_train)\n",
        "accuracy_lr_three = lr.score(X_test, y_test)\n",
        "print (\"lr accuracy is \", accuracy_lr_three)\n",
        "\n",
        "# Create an DecisionTree and train it on 67% of the data set\n",
        "dt = DecisionTreeClassifier()\n",
        "dt.fit(X_train, y_train)\n",
        "accuracy_dt_three = dt.score(X_test, y_test)\n",
        "print (\"dt accuracy is \", accuracy_dt_three)\n",
        "\n",
        "# Create an RandomForest and train it on 67% of the data set\n",
        "rf = RandomForestClassifier()\n",
        "rf.fit(X_train, y_train)\n",
        "accuracy_rf_three = rf.score(X_test, y_test)\n",
        "print (\"rf accuracy is \", accuracy_rf_three)"
      ],
      "execution_count": null,
      "outputs": [
        {
          "output_type": "stream",
          "text": [
            "SVC accuracy is  0.601063829787234\n",
            "knc accuracy is  0.925531914893617\n",
            "lr accuracy is  0.9468085106382979\n",
            "dt accuracy is  0.9414893617021277\n",
            "rf accuracy is  0.925531914893617\n"
          ],
          "name": "stdout"
        }
      ]
    },
    {
      "cell_type": "code",
      "metadata": {
        "id": "msNSfzgyQuKg",
        "outputId": "b214f1d9-e4f9-4480-fd93-7482daa9d466"
      },
      "source": [
        "# use the four best columns to run ml\n",
        " \n",
        "X = data.iloc[:,[3, 4,14,15]].as_matrix()\n",
        "y = array[:, 0]\n",
        "X_train, X_test, y_train, y_test = cross_validation.train_test_split( X, y, test_size=0.33)\n",
        "#print (\"x is \", X)\n",
        "#print (\" y is :\", y)\n",
        "#print (X_train.shape, y_train.shape, X_test.shape, y_test.shape)\n",
        "\n",
        "# Create an SVM classifier and train it on 67% of the data set\n",
        "clf = svm.SVC()\n",
        "clf.fit(X_train, y_train)\n",
        "accuracy_svm_four = clf.score(X_test, y_test)\n",
        "print (\"SVC accuracy is \",accuracy_svm_four)\n",
        "\n",
        "# Create an Kneighbors classifier and train it on 67% of the data set\n",
        "knc = neighbors.KNeighborsClassifier()\n",
        "knc.fit(X_train, y_train)\n",
        "accuracy_knc_four = knc.score(X_test, y_test)\n",
        "print (\"knc accuracy is \", accuracy_knc_four)\n",
        "\n",
        "# Create an Logistic Regression and train it on 67% of the data set\n",
        "lr = LogisticRegression()\n",
        "lr.fit(X_train, y_train)\n",
        "accuracy_lr_four = lr.score(X_test, y_test)\n",
        "print (\"lr accuracy is \", accuracy_lr_four)\n",
        "\n",
        "# Create an DecisionTree and train it on 67% of the data set\n",
        "dt = DecisionTreeClassifier()\n",
        "dt.fit(X_train, y_train)\n",
        "accuracy_dt_four = dt.score(X_test, y_test)\n",
        "print (\"dt accuracy is \", accuracy_dt_four)\n",
        "\n",
        "# Create an RandomForest and train it on 67% of the data set\n",
        "rf = RandomForestClassifier()\n",
        "rf.fit(X_train, y_train)\n",
        "accuracy_rf_four = rf.score(X_test, y_test)\n",
        "print (\"rf accuracy is \", accuracy_rf_four)"
      ],
      "execution_count": null,
      "outputs": [
        {
          "output_type": "stream",
          "text": [
            "SVC accuracy is  0.6648936170212766\n",
            "knc accuracy is  0.8670212765957447\n",
            "lr accuracy is  0.8829787234042553\n",
            "dt accuracy is  0.8457446808510638\n",
            "rf accuracy is  0.8776595744680851\n"
          ],
          "name": "stdout"
        }
      ]
    },
    {
      "cell_type": "code",
      "metadata": {
        "id": "CkNccV_sQuKh",
        "outputId": "0489f301-4347-4e77-f957-a68610ddc041"
      },
      "source": [
        "N = 5\n",
        "ind = np.arange(N)  # the x locations for the groups\n",
        "width = 0.2      # the width of the bars\n",
        "\n",
        "fig = plt.figure()\n",
        "ax = fig.add_subplot(111)\n",
        "\n",
        "SVCvals = [accuracy_svm_one, accuracy_svm_two, accuracy_svm_three, accuracy_svm_four, accuracy_svm_all]\n",
        "rects1 = ax.bar(ind, SVCvals, width, color='r')\n",
        "kncvals = [accuracy_knc_one, accuracy_knc_two, accuracy_knc_three, accuracy_knc_four, accuracy_knc_all]\n",
        "rects2 = ax.bar(ind+width, kncvals, width, color='g')\n",
        "lrvals = [accuracy_lr_one, accuracy_lr_two, accuracy_lr_three, accuracy_lr_four, accuracy_lr_all]\n",
        "rects3 = ax.bar(ind+width*2, lrvals, width, color='black')\n",
        "dtvals = [accuracy_dt_one, accuracy_dt_two, accuracy_dt_three, accuracy_dt_four, accuracy_dt_all]\n",
        "rects4 = ax.bar(ind+width*3, dtvals, width, color='blue')\n",
        "rfvals = [accuracy_rf_one, accuracy_rf_two, accuracy_rf_three, accuracy_rf_four, accuracy_rf_all]\n",
        "rects5 = ax.bar(ind+width*3, dtvals, width, color='orange')\n",
        "\n",
        "ax.set_ylabel('Prediction Rate')\n",
        "ax.set_xticks(ind+width)\n",
        "ax.set_xticklabels( ('1_feature', '2_feature', '3_feature','4_feature', 'all_feature' ) )\n",
        "ax.legend( (rects1[0], rects2[0], rects3[0], rects4[0], rects5[0]), ('SVM', 'KN', 'LR', 'DT', 'RF') )\n",
        "\n",
        "def autolabel(rects):\n",
        "    for rect in rects:\n",
        "        h = rect.get_height()\n",
        "        ax.text(rect.get_x()+rect.get_width()/2., 1.05*h, '%d'%int(h),\n",
        "                ha='center', va='bottom')\n",
        "fig.suptitle('Comparison of Four Algorithm Models', fontsize=22)        \n",
        "fig.set_size_inches(18, 10)\n",
        "plt.rcParams.update({'font.size': 20})\n",
        "ax.set_ylim(0,1.5)\n",
        "#plt.legend(fontsize=14)\n",
        "#autolabel(rects1)\n",
        "#autolabel(rects2)\n",
        "#autolabel(rects3)\n",
        "#autolabel(rects4)\n",
        "plt.show()"
      ],
      "execution_count": null,
      "outputs": [
        {
          "output_type": "display_data",
          "data": {
            "image/png": "[encoded data removed]",
            "text/plain": [
              "<matplotlib.figure.Figure at 0x1c3014eea20>"
            ]
          },
          "metadata": {
            "tags": []
          }
        }
      ]
    },
    {
      "cell_type": "code",
      "metadata": {
        "id": "iqiUajvgQuKi"
      },
      "source": [
        ""
      ],
      "execution_count": null,
      "outputs": []
    }
  ]
}
